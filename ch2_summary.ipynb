{
 "cells": [
  {
   "cell_type": "markdown",
   "id": "7a1c0daf",
   "metadata": {},
   "source": [
    "# 함수형 기능 소개\n",
    "대부분의 함수형 프로그래밍 기능은 이미 파이썬 내에 first class로 들어가 있다. 함수형 파이썬을 작성하는 목표는 명령형(절차형이나 객체지향) 기법에서 최대한 벗어나는 것이다. 이제 다음과 같은 함수형 프로그래밍 주제를 다룰 것이다.\n",
    "\n",
    "* first class 함수와 고차 함수는 순수 함수로도 불린다.\n",
    "\n",
    "* 변경 불가능한 데이터\n",
    "\n",
    "* 엄격한 평가(strict evaluation)과 엄격하지 않은 평가를 각각 미리(eager) 계산과 지연(lazy) 계산이라 부르기로 한다.\n",
    "\n",
    "* 명시형 루프 상태를 대신하는 재귀\n",
    "\n",
    "* 함수형 타입 시스템\n",
    "\n",
    "\n",
    "다시 말하지만 순수 함수형 언어는 변수 할당을 통해 상태를 명시적으로 관리하는 데 따르는 복잡성이 없다. 또한 파이썬은 순수 함수형 언어가 아니다.\n",
    "\n",
    "\n",
    "---\n",
    "\n",
    "\n",
    "* 부수 효과 = 외부의 상태를 변경 또는 함수로 들어온 인자의 상태를 직접 변경하는 것\n",
    "\n",
    "* 순수 함수 = 부수효과가 없는 함수 즉, 어떤 함수에 동일한 인자를 주었을 때 항상 같은 값을 리턴하는 함수  + 외부의 상태를 변경하지 않는 함수\n",
    "\n",
    "\n",
    "---"
   ]
  },
  {
   "cell_type": "markdown",
   "id": "b4465bea",
   "metadata": {},
   "source": [
    "## first class 함수\n",
    "함수형 프로그래밍은 간결하고 표현력이 높을 때가 많다. 이를 달성하려면 함수를 인자로 제공하고, 또한 이 함수 역시 다른 함수가 사용할 수 있도록 함수를 반환하게 만들어야 한다. \n",
    "\n",
    "이러한 사용이 가능하려면 함수가 실행 시점의 환경에서 first class이어야 한다. 파이썬에서 함수는 (보통) def문에 의해 생성되는 객체이며, 다른 파이썬 함수에서 이를 조작할 수 있다. 또한 함수를 호출 가능(callable) 객체로 정의하거나 lambda를 변수로 대입하여 만들 수도 있다.\n",
    "\n",
    "다음은 함수 정의가 어떻게 속성(attribute)이 있는 객체를 만들어 내는지 보여주는 예제이다."
   ]
  },
  {
   "cell_type": "code",
   "execution_count": 1,
   "id": "ee16f0a3",
   "metadata": {},
   "outputs": [
    {
     "data": {
      "text/plain": [
       "function"
      ]
     },
     "execution_count": 1,
     "metadata": {},
     "output_type": "execute_result"
    }
   ],
   "source": [
    "def example(a, b, **kw):\n",
    "    \n",
    "    return a*b\n",
    "\n",
    "type(example)"
   ]
  },
  {
   "cell_type": "markdown",
   "id": "d6f361a5",
   "metadata": {},
   "source": [
    "<span style=\"color:green\">example이라는 객체는 **function() 클래스**에 속한다.</span>"
   ]
  },
  {
   "cell_type": "code",
   "execution_count": 2,
   "id": "4fbe163f",
   "metadata": {},
   "outputs": [
    {
     "data": {
      "text/plain": [
       "('a', 'b', 'kw')"
      ]
     },
     "execution_count": 2,
     "metadata": {},
     "output_type": "execute_result"
    }
   ],
   "source": [
    "example.__code__.co_varnames"
   ]
  },
  {
   "cell_type": "code",
   "execution_count": 3,
   "id": "c339c140",
   "metadata": {},
   "outputs": [
    {
     "data": {
      "text/plain": [
       "2"
      ]
     },
     "execution_count": 3,
     "metadata": {},
     "output_type": "execute_result"
    }
   ],
   "source": [
    "example.__code__.co_argcount"
   ]
  },
  {
   "cell_type": "markdown",
   "id": "549d62bd",
   "metadata": {},
   "source": [
    "function() 클래스에 속한 example 객체는 다양한 속성(attribute)를 포함한다. __code__ 객체는 함수 객체 자신을 속성과 연관시킨다.\n",
    "\n",
    "여기서 중요한 것은 함수가 first class 객체이고, 다른 일반적인 객체와 마찬가지로 조작이 가능하다는 것이다. 위 예제에서는 함수 객체에 있는 다양한 속성 중 두 가지 값을 보였다.\n",
    "\n",
    "\n",
    "---"
   ]
  },
  {
   "cell_type": "markdown",
   "id": "09630077",
   "metadata": {},
   "source": [
    "## 순수 함수\n",
    "함수형 프로그래밍 설계에서 순수 함수는 개념적으로 훨씬 단순하며, 테스트하기 더 쉽다. 순수 함수를 파이썬으로 작성하기 위해서는 <U>지역 상태만을 사용하는 코드</U>를 작성해야 한다. 즉, 이는 global문을 피해야 한다는 사실을 의미한다. 따라서 이후 예제에서 nonlocal을 사용하는 부분을 주의깊게 살펴야 한다.\n",
    "\n",
    "함수가 부수 효과가 없다고 확인할 방법은 없다. 게다가 부주의하면 순수 함수 규칙이 깨지기 쉽다. 정말 순수 함수 규칙을 따르는지 확신이 들지 않는다면 dis 모듈을 사용해 주어진 함수를 컴파일한 코드인 '__code__.co_code' 부분에 전역 참조가 있는지 살펴야 한다.(dis 모듈은 내부 클로저(closure)의 사용을 보고할 수 있다.) 튜플을 반환하는 __code__.co_freevars도 마찬가지다.\n",
    "\n",
    "파이썬 lambda는 순수 함수다. 람다를 사용해 함수를 정의하는 것을 권장하지 않지만, 순수 함수를 만들어 내는 건 가능하다. 다음은 lambda를 변수로 할당해 만든 함수다."
   ]
  },
  {
   "cell_type": "code",
   "execution_count": 4,
   "id": "b6344afb",
   "metadata": {},
   "outputs": [
    {
     "data": {
      "text/plain": [
       "131071"
      ]
     },
     "execution_count": 4,
     "metadata": {},
     "output_type": "execute_result"
    }
   ],
   "source": [
    "mersenne = lambda x: 2**x-1\n",
    "\n",
    "mersenne(17)"
   ]
  },
  {
   "cell_type": "markdown",
   "id": "eb0c527b",
   "metadata": {},
   "source": [
    "위에서 lambda를 사용해 순수 함수를 만들고, 이를 mersenne라는 변수에 대입했다. 이는 인자를 하나만 받아 값을 하나만 반환하는 호출 가능한 객체다. \n",
    "\n",
    "람다 내부에 대입문(=)을 사용할 수 없기 때문에 람다는 순수 함수이며, 함수형 프로그래밍에 적합하다.\n",
    "\n",
    "\n",
    "---"
   ]
  },
  {
   "cell_type": "markdown",
   "id": "9f1533a4",
   "metadata": {},
   "source": [
    "## 고차 함수\n",
    "고차 함수를 사용하면 간결하고 쉬운 알고리즘을 짤 수 있다. 함수를 인자로 받아들이거나, 값으로 반환하는 함수도 있다. 이러한 고차 함수를 사용하면 여러 함수를 합성한 함수를 만들 수 있다.\n",
    "\n",
    "아래는 예제에서 다룰 데이터다."
   ]
  },
  {
   "cell_type": "code",
   "execution_count": 6,
   "id": "f64b80a8",
   "metadata": {},
   "outputs": [],
   "source": [
    "year_cheese = [(2000, 29.87), (2001, 30.12), (2002, 30.6), (2003, 30.66), \n",
    "               (2004, 31.33), (2005, 32.62), (2006, 32.73), (2007, 33.5), \n",
    "               (2008, 32.84), (2009, 33.02), (2010, 32.92)]"
   ]
  },
  {
   "cell_type": "markdown",
   "id": "5ee35864",
   "metadata": {},
   "source": [
    "max() 함수를 다음과 같이 적용할 수 있다."
   ]
  },
  {
   "cell_type": "code",
   "execution_count": 7,
   "id": "f3e70d72",
   "metadata": {},
   "outputs": [
    {
     "data": {
      "text/plain": [
       "(2010, 32.92)"
      ]
     },
     "execution_count": 7,
     "metadata": {},
     "output_type": "execute_result"
    }
   ],
   "source": [
    "max(year_cheese)"
   ]
  },
  {
   "cell_type": "markdown",
   "id": "21d495c0",
   "metadata": {},
   "source": [
    "이 함수의 기본 동작은 리스트에 있는 각 튜플을 비교하여, <U>튜플의 [0]위치</U>에 있는 값 중 가장 큰 값이 있는 것을 반환한다.\n",
    "\n",
    "이때 max() 함수가 고차 함수이기 때문에 인자로 다른 함수를 넣어줄 수 있다. 아래는 lambda 함수를 인자로 넣어준 예제다."
   ]
  },
  {
   "cell_type": "code",
   "execution_count": 8,
   "id": "21294e74",
   "metadata": {},
   "outputs": [
    {
     "data": {
      "text/plain": [
       "(2007, 33.5)"
      ]
     },
     "execution_count": 8,
     "metadata": {},
     "output_type": "execute_result"
    }
   ],
   "source": [
    "max(year_cheese, key=lambda yc: yc[1])"
   ]
  },
  {
   "cell_type": "markdown",
   "id": "78bd6f22",
   "metadata": {},
   "source": [
    "위 예제에서 max() 함수는 인자로 받은 lambda 함수를 사용해 <U>튜플의 [1]위치</U>에 있는 가장 큰 값이 있는 것을 반환했다.\n",
    "\n",
    "\n",
    "---"
   ]
  },
  {
   "cell_type": "markdown",
   "id": "d5ae209a",
   "metadata": {},
   "source": [
    "## 변경 불가능한 데이터\n",
    "계산 상태를 추적할 때는 변수를 사용하지 않기 때문에, '변경 불가능한 데이터'에 초점을 맞춰야 한다. 따라서 변경 불가능한 데이터 타입인 tuple과 namedtuple을 살펴볼 것이다. 특정 케이스에서 불변하는 tuple을 사용해서 성능상의 이점을 얻기도 한다. \n",
    "\n",
    "튜플 리스트를 처리할 때는 대체로 다음 두 가지 방법 중 하나를 사용한다.\n",
    "\n",
    "* 고차 함수 사용: lambda를 max() 함수의 인자로 넘겨 max(year_cheese, key=lambda yc: yc[1])로 처리한 것처럼 사용한다.\n",
    "\n",
    "* 감싸고-처리하고-풀기 패턴 사용: 아래 예제에서 살필 것이다."
   ]
  },
  {
   "cell_type": "code",
   "execution_count": 13,
   "id": "6bda36d2",
   "metadata": {},
   "outputs": [
    {
     "data": {
      "text/plain": [
       "[(29.87, (2000, 29.87)),\n",
       " (30.12, (2001, 30.12)),\n",
       " (30.6, (2002, 30.6)),\n",
       " (30.66, (2003, 30.66)),\n",
       " (31.33, (2004, 31.33)),\n",
       " (32.62, (2005, 32.62)),\n",
       " (32.73, (2006, 32.73)),\n",
       " (33.5, (2007, 33.5)),\n",
       " (32.84, (2008, 32.84)),\n",
       " (33.02, (2009, 33.02)),\n",
       " (32.92, (2010, 32.92))]"
      ]
     },
     "execution_count": 13,
     "metadata": {},
     "output_type": "execute_result"
    }
   ],
   "source": [
    "# map() 함수는 인자를 함수, 리스트로 받는다. map(함수, 리스트)\n",
    "# 리스트에서 원소를 하나씩 꺼낸 뒤 함수를 적용시킨 값을 반환한다.\n",
    "\n",
    "list(map(lambda yc: (yc[1], yc), year_cheese))"
   ]
  },
  {
   "cell_type": "code",
   "execution_count": 9,
   "id": "7ec22319",
   "metadata": {},
   "outputs": [
    {
     "data": {
      "text/plain": [
       "(33.5, (2007, 33.5))"
      ]
     },
     "execution_count": 9,
     "metadata": {},
     "output_type": "execute_result"
    }
   ],
   "source": [
    "max(map(lambda yc: (yc[1], yc), year_cheese))"
   ]
  },
  {
   "cell_type": "code",
   "execution_count": 10,
   "id": "d6391dd4",
   "metadata": {},
   "outputs": [
    {
     "data": {
      "text/plain": [
       "(2007, 33.5)"
      ]
     },
     "execution_count": 10,
     "metadata": {},
     "output_type": "execute_result"
    }
   ],
   "source": [
    "# 인터프리터의 마지막 값을 사용하려면 _을 사용\n",
    "_[1]"
   ]
  },
  {
   "cell_type": "markdown",
   "id": "6ce51edf",
   "metadata": {},
   "source": [
    "위 예제를 살펴보자\n",
    "\n",
    "1. 감싸기: map(lambda yc: (yc[1], yc), year_cheese)로 리스트를 감싼다. 이 호출은 각 원소를 key와 원래 원소가 들어 있는 2-튜플로 변환한다. 여기서는 비교할 key를 yc[1]로 했다.\n",
    "\n",
    "2. 처리하기: max() 함수를 이용해 변환한 리스트를 처리한다. 비교해야 할 값이 0번째 위치로 들어간 튜플로 만들었기 때문에 사실 여기서 함수를 추가로 넣어서 max() 함수의 고차 함수 기능을 활용할 필요는 없다. max()의 기본 동작이 바로 우리가 원하는 동작이다.\n",
    "\n",
    "3. 풀기: [1]이라는 첨자를 사용해 튜플을 푼다. 이 첨자 연산은 max() 함수가 선택한 2-튜플의 두 번째 원소를 가져온다. \n",
    "\n",
    "원래 예제에 적용한다면 다음과 같다."
   ]
  },
  {
   "cell_type": "code",
   "execution_count": 11,
   "id": "e2b9f99c",
   "metadata": {},
   "outputs": [
    {
     "data": {
      "text/plain": [
       "(2007, 33.5)"
      ]
     },
     "execution_count": 11,
     "metadata": {},
     "output_type": "execute_result"
    }
   ],
   "source": [
    "snd = lambda x: x[1]\n",
    "\n",
    "snd( max( map( lambda yc: (yc[1], yc), year_cheese ) ) )"
   ]
  },
  {
   "cell_type": "markdown",
   "id": "582ff4cc",
   "metadata": {},
   "source": [
    "---"
   ]
  },
  {
   "cell_type": "markdown",
   "id": "e946122e",
   "metadata": {},
   "source": [
    "## 엄격한 평과와 엄격하지 않은 평가\n",
    "함수형 프로그래밍은 부분적으로 계산을 유예하는 방식으로 효율성을 얻는다. 이러한 지연(lazy) 또는 엄격하지 않은(non-strict) 평가 아이디어는 매우 유용하다. \n",
    "\n",
    "파이썬에서 논리 연산자인 and, or나 if-then-else는 모두 엄격하지 않다. 이러한 연산자를 때로 지름길(short circuit) 연산자라고 부른다. 왜냐하면 결과값을 내기 위해 모든 인자를 평가하지는 않기 때문이다.\n",
    "\n",
    "다음 예제에서 그 특성을 볼 수 있다."
   ]
  },
  {
   "cell_type": "code",
   "execution_count": 14,
   "id": "5fad0789",
   "metadata": {},
   "outputs": [
    {
     "data": {
      "text/plain": [
       "0"
      ]
     },
     "execution_count": 14,
     "metadata": {},
     "output_type": "execute_result"
    }
   ],
   "source": [
    "0 and print(\"right\")"
   ]
  },
  {
   "cell_type": "code",
   "execution_count": 15,
   "id": "f8975b59",
   "metadata": {},
   "outputs": [
    {
     "name": "stdout",
     "output_type": "stream",
     "text": [
      "right\n"
     ]
    }
   ],
   "source": [
    "True and print(\"right\")"
   ]
  },
  {
   "cell_type": "markdown",
   "id": "80574a1b",
   "metadata": {},
   "source": [
    "첫 번째 예제를 보면 좌항이 False이기 때문에 우항을 계산하지 않았다. 두 번째 예제는 좌항이 True이므로 우항까지 계산한 것이다.\n",
    "\n",
    "파이썬의 다른 부분은 엄격하다. 논리 연산자를 제외하면 모든 식은 순서대로 왼쪽에서 오른쪽으로 계산된다. 문장 시퀀스 또한 순서대로 처리된다. 리터럴 리스트나 튜플에도 엄격한 계산이 이뤄진다.\n",
    "\n",
    "또한 메서드 함수는 클래스를 정의할 때 엄격하게 순서대로 정의된다. 클래스 정의의 경우 메서드 함수는 (기본적으로) 딕셔너리에 수집되며, 생성된 다음에는 순서를 유지하지 않는다. 이름이 같은 메서드를 두 가지 정의하면 엄격한 정의 순서에 따라 두 번째 메서드만 살아남는다.\n",
    "\n",
    "하지만 파이썬의 제네레이터 식이나 함수는 지연 계산 대상이다. 이러한 식을 즉시 모든 가능한 값을 만들지 않는다. 아래는 range() 함수의 다른 버전으로 내부적으로 부수 효과를 사용해 생성 중인 수를 표시하게 만든 함수다."
   ]
  },
  {
   "cell_type": "code",
   "execution_count": 16,
   "id": "c233074f",
   "metadata": {},
   "outputs": [],
   "source": [
    "def numbers():\n",
    "    \n",
    "    for i in range(1024):\n",
    "        \n",
    "        print( \"=\", i)\n",
    "        \n",
    "        yield i"
   ]
  },
  {
   "cell_type": "markdown",
   "id": "07efd545",
   "metadata": {},
   "source": [
    "위 함수가 미리 계산을 수행하는 것이었다면 1024를 생성했겠지만, 이 함수는 지연 계산을 수행하기 때문에 그때그때 요청에 따라 필요한 수만 생성한다.\n",
    "\n",
    "위 함수가 반환하는 값의 일부를 평가하는 함수를 작성해보자."
   ]
  },
  {
   "cell_type": "code",
   "execution_count": 17,
   "id": "ca862dd1",
   "metadata": {},
   "outputs": [
    {
     "name": "stdout",
     "output_type": "stream",
     "text": [
      "= 0\n",
      "= 1\n",
      "= 2\n",
      "= 3\n",
      "= 4\n",
      "= 5\n"
     ]
    },
    {
     "data": {
      "text/plain": [
       "5"
      ]
     },
     "execution_count": 17,
     "metadata": {},
     "output_type": "execute_result"
    }
   ],
   "source": [
    "def sum_to(n):\n",
    "    \n",
    "    sum = 0\n",
    "    \n",
    "    for i in numbers():\n",
    "        \n",
    "        # 만약 인자로 준 n과 같은 값이 된다면 루프를 종료한다.\n",
    "        if i == n:\n",
    "            \n",
    "            break\n",
    "            \n",
    "        sum += 1\n",
    "        \n",
    "    return sum\n",
    "\n",
    "\n",
    "sum_to(5)"
   ]
  },
  {
   "cell_type": "markdown",
   "id": "d36ec008",
   "metadata": {},
   "source": [
    "---"
   ]
  },
  {
   "cell_type": "markdown",
   "id": "6e5d8313",
   "metadata": {},
   "source": [
    "## 명시적 루프 상태 대신 재귀 사용\n",
    "함수형 프로그램은 루프에 의존하지 않으며, 루프의 상태를 추적하는 데 따르는 부가 비용도 없다. 그 대신, 함수형 프로그램은 더 간단한 접근 방식인 재귀함수를 사용한다.\n",
    "\n",
    "아래는 어떤 수가 소수(prime number)인지 확인하는 간단한 루프다. 소수는 1과 자기 자신만을 약수로 가지는 자연수를 말한다. 소수를 판별하는 알고리즘은 다양하게 있다.그냥 2부터 시작해 그 수 자신까지 루프를 시행하며 악수인지를 검사하는, '성능이 나쁘고 유치한' 알고리즘을 사용할 수도 있다. 단순성만은 장점이라 할 수 있겠다. 하지만 아래에서는 서로소와 비교하여 소수를 검사하는 알고리즘을 쓸 것이다.\n",
    "\n",
    "서로소(coprime)은 두 수의 공약수가 1뿐인 경우를 말한다. 예를 들어 2와 3은 서로소지만, 6과 9는 3이라는 공약수가 있기 때문에 서로소가 아니다.\n",
    "\n",
    "어떤 수 n이 소수인지 판별하려면 **'어떤 수 n이 $p^2<n$인 모든 소수 p에 대해 서로소인가?'**를 검사하는 것으로 알 수 있다. 이를 단순화하여 2 ≤ $p^2$ < n인 모든 정수 p에 n이 서로소인지를 검사하는 것으로 볼 수도 있다. 이 수학식을 파이썬으로 나타내면 다음과 같다.\n",
    "\n",
    "> **not any(n%p==0 for p in range(2, int(math.sqrt(n))+1))**\n",
    "\n",
    "수학 공식을 파이썬으로 직접 변환하여 all(n%p != 0...)과 같은 코드를 사용할 수도 있다. 하지만 이는 p의 모든 값을 엄격하게 계산해야 하는 단점이 있다. not any를 사용하면 계산에서 True값을 발견한 경우 계산을 빨리 종료할 수 있다.\n",
    "\n",
    "아래는 재귀적으로 소수 정의를 파이썬으로 구현한 코드다.(다만 비교하는 정수 p는 3에서 2씩 증가하는 홀수로 구현하였다.)"
   ]
  },
  {
   "cell_type": "code",
   "execution_count": 18,
   "id": "6aea0a1b",
   "metadata": {},
   "outputs": [],
   "source": [
    "def isprimer(n):\n",
    "    \n",
    "    # k 값으로는 n이 들어올 것이며, coprime은 계속 비교할 값 p가 들어온다.\n",
    "    def isprime(k, coprime):\n",
    "        \n",
    "        # 우선 p^2가 비교하는 값보다 커서는 안 된다.(기저 조건)\n",
    "        if k < coprime*coprime:\n",
    "            \n",
    "            return True\n",
    "        \n",
    "        # 값이 서로소라면 계속 루프를 진행하도록 False를 반환한다.\n",
    "        if k % coprime == 0:\n",
    "            \n",
    "            return False\n",
    "        \n",
    "        # 기본적으로 짝수는 소수가 될 수 없다. 따라서 2씩 증가시킨다.\n",
    "        return isprime(k, coprime+2)\n",
    "    \n",
    "    \n",
    "    # 인자가 2보다 작다면\n",
    "    if n < 2:\n",
    "        \n",
    "        return False\n",
    "    \n",
    "    # 인자가 2면 소수이므로 True다.(함수 종료)\n",
    "    if n == 2:\n",
    "        \n",
    "        return True\n",
    "    \n",
    "    # 인지가 2보다 크면서 2로 나눠지면 소수가 아니다.\n",
    "    if n % 2 == 0:\n",
    "        \n",
    "        return False\n",
    "    \n",
    "    \n",
    "    # 비교할 값 3부터 함수를 시작한다.(재귀)\n",
    "    return isprime(n, 3)"
   ]
  },
  {
   "cell_type": "markdown",
   "id": "24f1d4cb",
   "metadata": {},
   "source": [
    "재귀가 함수의 끝에 위치해 있으므로 **꼬리재귀함수**라고 할 수 있다.\n",
    "\n",
    "파이썬에서 재귀를 사용하려면 약간의 주의가 필요하다. 다음과 같은 두 가지 문제가 발생할 수 있다.\n",
    "\n",
    "* 파이썬에서는 잘못 정의한 재귀함수를 감지하기 위해 재귀 깊이에 한계를 설정해 두었다.\n",
    "\n",
    "* 파이썬에는 꼬리재귀 최적화(TCO)를 수행하는 컴파일러가 존재하지 않는다.\n",
    "\n",
    "재귀 깊이의 한계는 기본적으로 1,000이다.(대부분의 알고리즘은 이 정도로 충분하다.) 이를 sys.setrecursionlimit() 함수로 바꿀 수 있지만 OS 메모리 한게를 넘어서거나 파이썬 인터프리터를 망가뜨릴 수 있기 때문에 시도하지 않는 것이 좋다.\n",
    "\n",
    "위 예제만 보아도 isprimer() 함수를 1,000,000보다 큰 수에 호출하면 재귀 깊이 제한값에 걸릴 것이다. 일부 함수형 프로그래밍 언어는 재귀함수를 최적화할 수 있지만, 파이썬은 이러한 최적화를 수행하지 않는다.\n",
    "\n",
    "파이썬에서 재귀함수 대신 제네레이터 식을 사용하는 경우, 근본적으로 꼬리재귀 최적화를 직접 해주는 것과 같다. 다음은 제너레이터 식을 이용해 꼬리재귀 최적화(TCO)를 수행한 코드다."
   ]
  },
  {
   "cell_type": "code",
   "execution_count": null,
   "id": "c4cb736e",
   "metadata": {},
   "outputs": [],
   "source": [
    "# isprimer 안에 있었던 isprime()을 최적화\n",
    "def isprime(p):\n",
    "    \n",
    "    \n",
    "    if p < 2:\n",
    "        \n",
    "        return False\n",
    "    \n",
    "    if p == 2:\n",
    "        \n",
    "        return True\n",
    "    \n",
    "    if p % 2 == 0:\n",
    "        \n",
    "        return False\n",
    "    \n",
    "    \n",
    "    # 3부터 범위 내 있는 수를 +2씩 p에 할당한다\n",
    "    return not any(p==0 for p in range(3, int(math.sqrt(n))+1,2))"
   ]
  },
  {
   "cell_type": "markdown",
   "id": "0f8ab0e9",
   "metadata": {},
   "source": [
    "앞서 말한 정의대로라면 n은 열린 구간 \\[2, 1+$\\sqrt{n}$\\) 범위 안에 있는 모든 수에 대해 서로소인지 물어본다. \n",
    "\n",
    "\n",
    "---"
   ]
  },
  {
   "cell_type": "markdown",
   "id": "41e93cb1",
   "metadata": {},
   "source": [
    "## 생각하기\n",
    "앞에서 공부한 것을 살피면서 생각할 수 있는 점 중 하나는, 함수형 프로그래밍 중 대부분은 이미 파이썬이 제공하는 기능이라는 점이다. 어떤 클래스의 메서드가 모두 self()를 반환하게 만든다면, 다음과 같이 그 클래스를 활용할 수 있다."
   ]
  },
  {
   "cell_type": "code",
   "execution_count": null,
   "id": "db74ca4b",
   "metadata": {},
   "outputs": [],
   "source": [
    "some_object.foo().bar().yet_more()"
   ]
  },
  {
   "cell_type": "markdown",
   "id": "3f7aa266",
   "metadata": {},
   "source": [
    "이와 마찬가지로 다음과 같이 밀접한 관련이 있는 여러 함수를 작성할 수도 있다."
   ]
  },
  {
   "cell_type": "code",
   "execution_count": null,
   "id": "1b5ded71",
   "metadata": {},
   "outputs": [],
   "source": [
    "yet_more(bar(foo(some_object)))"
   ]
  },
  {
   "cell_type": "markdown",
   "id": "8ac80d54",
   "metadata": {},
   "source": [
    "위와 아래 구문의 차이는 단지 구문을 전형적인 객체지향 후위 연산자 형태에서 더 함수형인 전위 연산자로 형태를 바꿨을 뿐이다. \n",
    "\n",
    "다시 말하지만 명령형 프로그래밍 방식이 잘못됐다거나, 함수형 프로그래밍이 우월한 기법을 제공한다는 말이 아니다. 중요한 점은 관점의 변화를 알아두면 프로그래밍에서 유용하다는 점이다.\n",
    "\n",
    "\n",
    "---"
   ]
  }
 ],
 "metadata": {
  "kernelspec": {
   "display_name": "Python 3 (ipykernel)",
   "language": "python",
   "name": "python3"
  },
  "language_info": {
   "codemirror_mode": {
    "name": "ipython",
    "version": 3
   },
   "file_extension": ".py",
   "mimetype": "text/x-python",
   "name": "python",
   "nbconvert_exporter": "python",
   "pygments_lexer": "ipython3",
   "version": "3.9.12"
  }
 },
 "nbformat": 4,
 "nbformat_minor": 5
}
