{
 "cells": [
  {
   "cell_type": "markdown",
   "id": "e7bb2dcd",
   "metadata": {},
   "source": [
    "# 3 함수, 반복자, 제네레이터\n",
    "함수형 프로그래밍의 핵심은 순수 함수를 사용해 입력 정의역(domain)의 값을 출력 치역(range) 값으로 바꾸는 것이다. \n",
    "\n",
    "순수 함수에는 부수 효과(외부의 상태를 변경 또는 함수로 들어온 인자의 상태를 직접 변경하는 것)가 없으며 따라서 변수 의존 관계를 줄일 수 있다. 파이썬에서 대입문을 완전히 없앨 수는 없겠지만, 상태가 있는 객체에 의존하지 않을 수 있다. 이를 위해서 파이썬이 제공하는 내장 데이터 구조 중 상태가 있는 연산을 필요로 하지 않는 구조를 활용해야 한다.\n",
    "\n",
    "따라서 이번 장은 파이썬의 기능 몇 가지를 살펴볼 것이다.\n",
    "\n",
    "* 부수 효과가 없는 순수 함수\n",
    "\n",
    "* 인자로 넘길 수 있거나 함수의 결과로 반환할 수 있는 객체인 함수\n",
    "\n",
    "* 객체지향적인 후위 표기법이나 전위 표기법으로 파이썬 문자열 사용\n",
    "\n",
    "* tuple이나 namedtuple을 사용해 상태가 없는 객체 생성\n",
    "\n",
    "* 반복 가능한 컬렉션을 함수형 프로그래밍을 위한 주 설계 도구로 활용\n",
    "\n",
    "2장에서 살폈듯 파이썬은 재귀 깊이에 제한을 두며, 자동으로 TCO를 진행하지 않는다. 따라서 제너레이터 식을 이용해 직접 재귀를 최적화해야 한다. 여기서는 다음과 같은 작업을 수행하는 제너레이터 식을 작성할 것이다.\n",
    "\n",
    "* 변환\n",
    "\n",
    "* 재구성 \n",
    "\n",
    "* 복잡한 계산\n",
    "\n",
    "\n",
    "---\n",
    "\n",
    "\n",
    "* 객체의 상태: 상태는 **특정 시점에 객체가 가지고 있는 정보의 집합**으로 객체의 구조적 특징을 표현한다. 객체의 상태는 객체에 존재하는 정적인 프로퍼티와 동적인 프로퍼티 값으로 구성된다. 객체의 프로퍼티는 단순한 값과 다른 객체를 참조하는 링크로 구분할 수 있다.\n",
    "\n",
    "\n",
    "---"
   ]
  },
  {
   "cell_type": "markdown",
   "id": "6b2d2bcd",
   "metadata": {},
   "source": [
    "## 순수 함수 작성하기\n",
    "순수 함수는 부수 효과가 없다. 즉, 변수의 전역적인 상태를 변경하는 일이 결코 없다. global문을 사용하지 않는다면 이러한 목표를 거의 충족할 수 있을 것이다. 또한 상태를 바꿀 수 있는 객체를 다루는 방식을 바꿔야만 한다. 자유 변수(free variable)를 사용해 파이썬 전역에 있는 값을 참조하면 매개변수를 적절히 사용해 처리할 수 있다.\n",
    "\n",
    "다음은 전역적인 문장의 사용 예를 보여주는 예제다."
   ]
  },
  {
   "cell_type": "code",
   "execution_count": 1,
   "id": "0d528bf1",
   "metadata": {},
   "outputs": [],
   "source": [
    "def some_function(a, b, t):\n",
    "    \n",
    "    return a+b+t+global_adjustment"
   ]
  },
  {
   "cell_type": "markdown",
   "id": "a1687150",
   "metadata": {},
   "source": [
    "위 예제에서 함수를 리펙토링하여 global_adjustment 변수를 적절한 매개변수로 바꿀 수 있다. 하지만 이런 작업은 복잡한 애플리케이션에서 많은 파장을 불러일으킬 수 있다.\n",
    "\n",
    "상태가 있는 파이썬 내부 객체는 많다. file 클래스의 인스턴스나 모든 file-like 객체가 자주 사용되는 '상태가 있는 객체'다. 상태가 있는 파일 객체를 잘 정의된 영역 안으로 제한할 수 있는 **with문**을 잘 활용하는 것이 중요하다.(파일 객체는 항상 with 컨텍스트 안에서 사용하라)\n",
    "\n",
    "전역 파일 객체, 전역 데이터베이스 연결 등을 피하고 그와 관련 있는 상태를 피해야 한다. 전역 파일 객체는 열린 파일을 차리하는 경우에 매우 흔하게 사용하는 패턴이다. 다음 코드를 보자."
   ]
  },
  {
   "cell_type": "code",
   "execution_count": null,
   "id": "7b10244a",
   "metadata": {},
   "outputs": [],
   "source": [
    "def open_(iname, oname):\n",
    "    \n",
    "    global ifile, ofile\n",
    "    \n",
    "    ifile = open(iname, \"r\")\n",
    "    ofile = open(onamem \"w\")"
   ]
  },
  {
   "cell_type": "markdown",
   "id": "db6e3e43",
   "metadata": {},
   "source": [
    "위 코드는 다양한 다른 함수들이 ifile이나 ofile 변수를 사용할 수 있도록 열어두었다. 이는 좋은 설계가 아니며 피해야 한다. 파일은 함수에 제공되는 매개변수여야 하며, 열린 파일은 with문으로 감싸서 상태에 따른 동작을 제대로 처리하도록 설계해야 한다.\n",
    "\n",
    "\n",
    "---"
   ]
  },
  {
   "cell_type": "markdown",
   "id": "c4b1c839",
   "metadata": {},
   "source": [
    "## first class 객체인 함수\n",
    "함수가 속성(attribute)가 있는 객체이기 때문에 우리는 __name__이나 __name__ 속성을 사용해 docstring이나 함수의 이름을 뽑아낼 수 있다. 또한 함수의 본문을 __code__ 속성을 이용해 가져올 수도 있다. \n",
    "\n",
    "함수를 변수에 대입하거나, 함수를 인자로 넘기거나, 함수를 값으로 반환할 수도 있다. 이러한 기법을 이용해 고차 함수를 쉽게 만들 수도 있다.\n",
    "\n",
    "이와 아울러 호출 가능한 객체를 사용해 함수를 정의할 수도 있다. 호출 가능 객체 역시 first class 객체다. 심지어 호출 가능 클래스 정의를 고차 함수로 볼 수도 있다. 다만 호출 가능 객체에서 __init()__ 메서드를 사용하는 방식은 신중하게 생각해야 한다. 한 가지 일반적인 응용 방법은 __init()__ 메서드를 사용해 전략 디자인 패턴(Strategy design pattern)에 부합하는 객체를 만드는 것이다. \n",
    "\n",
    "전략 디자인 패턴을 따르는 클래스는 알고리즘이나 알고리즘 일부를 제공하는 다른 객체에 의존한다. 이 패턴은 알고리즘의 자세한 부분을 클래스 안에 컴파일해 넣는 대신, 실행 시점에 알고리즘의 세부 사항을 주입할 수 있게 해준다.\n",
    "\n",
    "아래는 내장된 전략 객체가 있는 호출 가능한 객체 예제다."
   ]
  },
  {
   "cell_type": "code",
   "execution_count": 2,
   "id": "b5919982",
   "metadata": {},
   "outputs": [
    {
     "name": "stderr",
     "output_type": "stream",
     "text": [
      "/var/folders/p3/fjkwnjwd4dzcfcqt47dlgrm40000gn/T/ipykernel_14196/7786008.py:3: DeprecationWarning: Using or importing the ABCs from 'collections' instead of from 'collections.abc' is deprecated since Python 3.3, and in 3.10 it will stop working\n",
      "  class Mersennel(collections.Callable):\n"
     ]
    }
   ],
   "source": [
    "import collections\n",
    "\n",
    "class Mersennel(collections.Callable):\n",
    "    \n",
    "    def __init__(self, algorithm):\n",
    "        \n",
    "        # 주어진 인자만큼 2를 거듭제곱하는 함수를 참조\n",
    "        self.pow2 = algorithm\n",
    "        \n",
    "    def __call__(self, arg):\n",
    "        \n",
    "        # 인자를 받아서 함수를 적용한 뒤 나온 값에 1을 뺀 값을 반환\n",
    "        return self.pow2(arg) - 1"
   ]
  },
  {
   "cell_type": "markdown",
   "id": "9f729d29",
   "metadata": {},
   "source": [
    "이 클래스는 __init__()를 사용해 다른 함수 참조를 저장한다. 하지만 아무런 상태가 있는 인스턴스 변수를 만들지 않는다. 이 클래스에 끼워 넣을 수 있는 세 가지 후보 객체는 다음과 같다."
   ]
  },
  {
   "cell_type": "code",
   "execution_count": 4,
   "id": "2f570a54",
   "metadata": {},
   "outputs": [],
   "source": [
    "# 주어진 인자만큼 2를 거듭제곱하는 함수(b: 지수)\n",
    "\n",
    "\n",
    "# 비트 left shift 연산으로 2의 거듭제곱을 계산한다.\n",
    "def shifty(b):\n",
    "    \n",
    "    # 비트 1을 왼쪽으로 shift할 떄마다 2의 거듭제곱만큼 값이 커지는 것\n",
    "    return 1 << b\n",
    "\n",
    "\n",
    "# 재귀를 이용해 2의 거듭제곱을 계산한다. 인자로 받은 값에서 -1씩 줄어들며 0이 되면 끝난다.\n",
    "def multy(b):\n",
    "    \n",
    "    # 기저 조건\n",
    "    if b == 0:\n",
    "        \n",
    "        return 1\n",
    "    \n",
    "    # 2*multy(b-1)=2*2*multy(b-2)=...=2^b\n",
    "    return 2*multy(b-1)\n",
    "\n",
    "\n",
    "# 재귀함수\n",
    "# faster 함수는 분할 정복(divide and conquer) 전략을 사용해 b번이 아니라 log_2(b)번의 곱셈을 수행한다.(시간 효율성)\n",
    "# 과정에서 b를 계속 2씩 나누는 대신, t*t로 지수는 *2가 되어 보상된다.\n",
    "def faster(b):\n",
    "    \n",
    "    # 기저 조건\n",
    "    if b == 0:\n",
    "        \n",
    "        return 1\n",
    "    \n",
    "    # b가 홀수면\n",
    "    if b % 2 == 1:\n",
    "        \n",
    "        # 홀수 재귀\n",
    "        # 홀수 턴에서는 2^1만큼 늘어난다.\n",
    "        return 2*faster(b-1)\n",
    "    \n",
    "    # b가 짝수면\n",
    "    # 짝수 재귀(log_2(b)번의 곱셈을 수행하게 만드는 핵심)\n",
    "    # t: b를 2로 나눈 몫을 faster() 함수 인자로 넣어서 실행한다.\n",
    "    # 짝수는 2로 나눠주는 만큼, 반환값도 ()^2로 지수가 2배로 늘어난다.\n",
    "    t = faster(b//2)\n",
    "    \n",
    "    return t*t"
   ]
  },
  {
   "cell_type": "markdown",
   "id": "b7fb5d5f",
   "metadata": {},
   "source": [
    "알고리즘 전략을 내장한 Mersennel 클래스의 인스턴스는 다음과 같이 만들 수 있다."
   ]
  },
  {
   "cell_type": "code",
   "execution_count": 5,
   "id": "0e585f1a",
   "metadata": {},
   "outputs": [],
   "source": [
    "# 첫 번째 객체\n",
    "mls= Mersennel(shifty)\n",
    "\n",
    "# 두 번째 객체\n",
    "mlm= Mersennel(multy)\n",
    "\n",
    "# 세 번째 객체\n",
    "mlf= Mersennel(faster)"
   ]
  },
  {
   "cell_type": "markdown",
   "id": "516f8c1c",
   "metadata": {},
   "source": [
    "---"
   ]
  },
  {
   "cell_type": "markdown",
   "id": "c32b03d3",
   "metadata": {},
   "source": [
    "## 문자열 사용하기\n",
    "파이썬 문자열은 변경 불가능하기 때문에 함수형 프로그래밍 객체의 좋은 예라고 할 수 있다. 파이썬의 string 모듈에는 많은 메서드가 들어 있고, 그들 모두는 결과로 새로운 문자열을 내놓는다. 이러한 메서드는 부수 효과가 없는 순수 함수다.\n",
    "\n",
    "전위 방식인 대부분의 함수와는 달리 string 메서드 함수를 사용하는 구문들은 후위 방식이다. 때문에 복잡한 문자열 연산이 일반적인 함수와 혼합이 되는 일이 발생하면 가독성이 떨어질 수 있다.\n",
    "\n",
    "아래는 구분 기호를 제거하여 애플리케이션의 다른 곳에서 사용할 수 있는 Decimal 객체를 반환하는 정리 함수다. 이 함수를 구현하면서 전위 연산자와 후위 연산자를 번갈아 쓰기 때문에 가독성이 어떻게 떨어지는지 알 수 있을 것이다."
   ]
  },
  {
   "cell_type": "code",
   "execution_count": 1,
   "id": "35ba1dba",
   "metadata": {},
   "outputs": [],
   "source": [
    "# 십진법 기반의 연산을 처리하는 decimal 모듈. 내장 클래스 Decimal을 사용할 것이다.\n",
    "from decimal import *\n",
    "\n",
    "def clean_decimal(text):\n",
    "    \n",
    "    if text is None:\n",
    "        \n",
    "        return text\n",
    "    \n",
    "    # try 구문 중 에러가 발생하면 except 블록이 수행된다.\n",
    "    try:\n",
    "        \n",
    "        # 문자열에서 $와 ,를 제거해서 반환한다.\n",
    "        return Decimal(text.replace(\"$\", \"\").replace(\",\", \"\"))\n",
    "    \n",
    "    except InvalidOperation:\n",
    "        \n",
    "        return text"
   ]
  },
  {
   "cell_type": "markdown",
   "id": "056f33f1",
   "metadata": {},
   "source": [
    "위 함수는 문자열에서 $와 ,를 제거하기 위해 replace를 두 번 호출했다. 그 결과로 생성한 문자열을 Decimal 클래스 생성자의 인자로 전달하고, 그 결과로 생긴 객체를 반환했다. \n",
    "\n",
    "위 예제를 일관성 있게 구현하려면 다음과 같이 string 메서드 함수를 처리하는 전위 연산자 함수를 정의해야 한다."
   ]
  },
  {
   "cell_type": "code",
   "execution_count": 2,
   "id": "863cd880",
   "metadata": {},
   "outputs": [],
   "source": [
    "def replace(data, a, b):\n",
    "    \n",
    "    return data.replace(a, b)"
   ]
  },
  {
   "cell_type": "markdown",
   "id": "0309365b",
   "metadata": {},
   "source": [
    "위처럼 정의한다면 좀 더 일관성 있게 코드를 구현할 수 있다. 예제의 경우 문자열에서 $와 ,를 제거해서 반환하는 부분을 \n",
    "\n",
    "> Decimal(replace( replace(text, \"$\", \"\"), \",\", \"\"))\n",
    "\n",
    "라는 구문으로 일관성 있게 작성할 수 있다."
   ]
  },
  {
   "cell_type": "code",
   "execution_count": 3,
   "id": "1659ec8e",
   "metadata": {},
   "outputs": [
    {
     "data": {
      "text/plain": [
       "'12.45'"
      ]
     },
     "execution_count": 3,
     "metadata": {},
     "output_type": "execute_result"
    }
   ],
   "source": [
    "replace = str.replace\n",
    "\n",
    "replace(\"$12.45\", \"$\", \"\")"
   ]
  },
  {
   "cell_type": "markdown",
   "id": "489791b6",
   "metadata": {},
   "source": [
    "좀 더 나은 접근 방식은 다음과 같이 비슷하게 구분 기호를 정리해주는 전위 연산자 방식의 함수를 정의하는 것이다."
   ]
  },
  {
   "cell_type": "code",
   "execution_count": 4,
   "id": "bc554667",
   "metadata": {},
   "outputs": [],
   "source": [
    "# 재귀적으로 구분 기호를 제거해 준다.\n",
    "# chars 변수에는 구분 기호가 있고(\"$,\"), str에서 이 구분 기호를 발견하면 차례로 제거하게 된다.\n",
    "def remove( str, chars ):\n",
    "    \n",
    "    if chars:\n",
    "        \n",
    "        # chars 변수의 맨 앞 기호를 제거했다면, chars는 [1:]로 슬라이싱해서 재귀를 적용한다.\n",
    "        return remove( str.replace(chars[0], \"\"), chars[1:] )\n",
    "    \n",
    "    return str"
   ]
  },
  {
   "cell_type": "markdown",
   "id": "3e08ef69",
   "metadata": {},
   "source": [
    "위를 이용한다면\n",
    "\n",
    "> Decimal(remove(text, \"$,\")) \n",
    "\n",
    "와 같이 문자열을 정리($와 ,를 문자열에서 제거)하는 목적을 더 잘 드러낼 수 있다.\n",
    "\n",
    "\n",
    "---"
   ]
  },
  {
   "cell_type": "markdown",
   "id": "acb7cd9a",
   "metadata": {},
   "source": [
    "## tuple과 namedtuple 사용하기\n",
    "파이썬의 tuple(튜플)은 변경 불가능한 객체이므로 마찬가지로 함수형 프로그래밍 객체로 적합하다. tuple은 소수의 메서드 함수만 제공하기 때문에 거의 대부분의 작업은 전휘 문법을 사용한 함수를 이용해 이뤄진다. 주로 튜플의 리스트, 튜플의 튜플, 튜플들을 만들어 내는 제네레이터를 주로 사용한다.\n",
    "\n",
    "물론, namedtuple(이름 있는 튜플)이라는 튜플의 필수적인 기능도 살핀다. 이는 인덱스 대신 이름을 사용할 수 있게 해준다. namedtuple을 사용하면 데이터를 취합한 객체를 만들 수 있다. tuple이나 namedtuple 중 어느 것을 사용할지는 순전히 편의 문제다.\n",
    "\n",
    "값의 모음의 경우 대부분 튜플(또는 이름 있는 튜플)을 사용할 것이다. 값을 하나만 사용하거나 단순히 두 값을 필요로 하는 경우에는 보통 함수에 이름이 정해진 매개변수를 전달하는 방식을 사용할 것이다. 하지만 컬렉션을 사용하는 경우에는 튜플의 반복자나 이름 있는 튜플의 반복자를 사용해야 될 수도 있다.\n",
    "\n",
    "(수, 수, 수) 형태의 RGB 튜플 리스트가 있다고 가정하자. 아래는 3-튜플에서 값을 가져오기 위해 함수를 사용하는 예제다."
   ]
  },
  {
   "cell_type": "code",
   "execution_count": 5,
   "id": "d1e37e82",
   "metadata": {},
   "outputs": [],
   "source": [
    "red = lambda color: color[0]\n",
    "\n",
    "green = lambda color: color[1]\n",
    "\n",
    "blue = lambda color: color[2]"
   ]
  },
  {
   "cell_type": "markdown",
   "id": "da8a7f8c",
   "metadata": {},
   "source": [
    "물론 다음과 같이 namedtuple을 사용할 수도 있다."
   ]
  },
  {
   "cell_type": "code",
   "execution_count": 7,
   "id": "00c07afe",
   "metadata": {},
   "outputs": [],
   "source": [
    "from collections import namedtuple\n",
    "\n",
    "Color = namedtuple(\"Color\", (\"red\", \"green\", \"blue\", \"name\"))"
   ]
  },
  {
   "cell_type": "markdown",
   "id": "6b277c2d",
   "metadata": {},
   "source": [
    "이렇게 하면 red(item) 대신 item.red를 사용할 수 있다.\n",
    "\n",
    "\n",
    "---"
   ]
  },
  {
   "cell_type": "markdown",
   "id": "abf3499e",
   "metadata": {},
   "source": [
    "## 제네레이터 식 사용하기\n",
    "이번엔 몇 가지 복잡한 제네레이터 기법을 살핀다. list나 dict 내장을 통해 list나 dict 리터럴을 만들어 내는 제네레이터 식에서 흔히 사용하는 파이썬 문법 일부가 등장할 것이다. list 디스플레이(display)나 내장(comprehension)은 제네레이터 식을 사용하는 방법의 예다. 리스트 디스플레이에는 [x**2 for x in range(10];과 같은 리터럴 문법이 들어간다. \n",
    "\n",
    "제네레이터 식을 사용할 떄 발생할 수 있는 두 가지 문제점은 반드시 알아둬야 한다.\n",
    "\n",
    "* 제네레이터는 컬렉션 크기를 알아야 할 필요가 있는 len()과 같은 함수인 경우를 제외하고는 리스트와 비슷해 보인다.\n",
    "\n",
    "* 제네레이터는 오직 한 번만 사용할 수 있다. 일단 사용하고 나면 제네레이터는 비어 있는 것으로 보인다.\n",
    "\n",
    "앞으로 몇몇 예제에서 사용하게 될 제네레이터 식은 다음과 같다. 소인수(주어진 자연수를 나누어 떨어뜨리는 약수 중에서 소수인 약수)를 구한다."
   ]
  },
  {
   "cell_type": "code",
   "execution_count": 15,
   "id": "d178c1f5",
   "metadata": {},
   "outputs": [],
   "source": [
    "import math\n",
    "# 주어진 수의 소인수(prime factor)를 도출한다.\n",
    "# 2를 제외한 모든 모든 소수는 홀수이기 때문에 2를 따로 처리한다.(반복 횟수를 절반으로 줄일 수 있다.)\n",
    "def pfactors1(x):\n",
    "    \n",
    "    # x가 짝수(2보다 큰 짝수는 소수일 수 없다.)\n",
    "    if x % 2 ==0:\n",
    "        \n",
    "        yield 2\n",
    "        \n",
    "        # 2로 나눈 몫이 1보다 크다면, 즉 2보다 큰 짝수면\n",
    "        if x // 2 > 1:\n",
    "            \n",
    "            # 재귀\n",
    "            # 그 후에는 x / 2의 소인수를 검사한다.\n",
    "            yield from pfactors1(x//2)\n",
    "            \n",
    "        return\n",
    "    \n",
    "    \n",
    "    # 3부터 x 제곱근까지의 값을 홀수 단위로 내놓는다.\n",
    "    # 작은 값부터 나누고 그 몫을 재귀하기 때문에 결과적으로 소인수만 도출된다.\n",
    "    # (3으로 나눌 수 있을 때까지 나누고, 5로 나눌 수 있을 때까지 나누고, 7로 나눌 수 있을 때까지 나누고,...)\n",
    "    # 꼬리재귀 최적화 코드\n",
    "    for i in range(3, int(math.sqrt(x) + .5), 2):\n",
    "        \n",
    "        # x가 i로 나누어지면\n",
    "        if x % i == 0:\n",
    "            \n",
    "            # 인수 i를 내놓는다.\n",
    "            yield i\n",
    "            \n",
    "            # 그 후 재귀적으로 x / i의 소인수를 찾는다.\n",
    "            if x // i > 1:\n",
    "                \n",
    "                # 재귀. 그 몫의 소인수를 검사한다.\n",
    "                yield from pfactors1(x//i)\n",
    "                \n",
    "            return\n",
    "        \n",
    "        \n",
    "    yield x"
   ]
  },
  {
   "cell_type": "markdown",
   "id": "4a879850",
   "metadata": {},
   "source": [
    "다만 재귀적인 제네레이터 함수에서는 return문을 사용할 때 조심해야 한다. 다음과 같은 문장은 사용해선 안 된다.\n",
    "\n",
    "```\n",
    "return recursive_iter(args)\n",
    "```\n",
    "\n",
    "위와 같이 쓰면 제네레이터 객체를 반환하기만 하고, 만들어진 값을 반환하도록 함수를 평가하지는 않는다. 따라서 다음과 같은 방식을 사용하거나\n",
    "\n",
    "```\n",
    "for result in recursive_iter(args):\n",
    "\n",
    "    yield result\n",
    "```\n",
    "   \n",
    "다음과 같은 방식을 사용하라.\n",
    "\n",
    "```\n",
    "yield from recursive_iter(args)\n",
    "```"
   ]
  },
  {
   "cell_type": "markdown",
   "id": "d1f8c9bc",
   "metadata": {},
   "source": [
    "어쨌든 앞서 만든 코드의 대안으로 더 순수한 재귀를 사용할 수 있다."
   ]
  },
  {
   "cell_type": "code",
   "execution_count": 12,
   "id": "a612c9e9",
   "metadata": {},
   "outputs": [],
   "source": [
    "def pfactorsr(x):\n",
    "    \n",
    "    # 내부 재귀함수\n",
    "    def factor_n(x, n):\n",
    "        \n",
    "        # n의 거듭제곱이 x보다 큰 경우 마지막으로 소수 x를 반환하고 마친다.\n",
    "        if n * n > x:\n",
    "            \n",
    "            yield x\n",
    "            \n",
    "            return\n",
    "        \n",
    "        # x가 n으로 나누어지면, n을 반환한다.\n",
    "        if x % n == 0:\n",
    "            \n",
    "            yield n\n",
    "            \n",
    "            # 만약 x/n의 몫이 1보다 크면\n",
    "            if x // n > 1:\n",
    "                \n",
    "                # 그 몫과 n을 내부 재귀함수로 검사한다.\n",
    "                yield from factor_n(x//n, n)\n",
    "                \n",
    "        else:\n",
    "            \n",
    "            # 홀수로 올라간다.\n",
    "            yield from factor_n(x, n+2)\n",
    "    \n",
    "    \n",
    "    \n",
    "    # x가 짝수인 경우\n",
    "    if x % 2 == 0:\n",
    "        \n",
    "        # x=2인 경우 2를 반환한다.\n",
    "        yield 2\n",
    "        \n",
    "        # x가 2보다 큰 짝수일 경우\n",
    "        if x // 2 > 1:\n",
    "            \n",
    "            # 그 몫을 재귀적으로 검사한다.\n",
    "            yield from pfactorsr(x//2)\n",
    "            \n",
    "        return\n",
    "    \n",
    "    \n",
    "    # 검사하는 수 x와 3을 내부 재귀함수에 대입한다. \n",
    "    yield from factor_n(x, 3)"
   ]
  },
  {
   "cell_type": "markdown",
   "id": "79a5a1aa",
   "metadata": {},
   "source": [
    "---"
   ]
  },
  {
   "cell_type": "markdown",
   "id": "67bb3f39",
   "metadata": {},
   "source": [
    "## 제네레이터의 한계\n",
    "제네레이터 식이나 함수에는 몇 가지 한계가 있다는 것을 지적했다. 다음은 이런 한계를 확인해 볼 것이다."
   ]
  },
  {
   "cell_type": "code",
   "execution_count": 13,
   "id": "25492dab",
   "metadata": {},
   "outputs": [
    {
     "data": {
      "text/plain": [
       "<generator object pfactors1 at 0x1195716d0>"
      ]
     },
     "execution_count": 13,
     "metadata": {},
     "output_type": "execute_result"
    }
   ],
   "source": [
    "pfactors1(1560)"
   ]
  },
  {
   "cell_type": "markdown",
   "id": "22f23d5c",
   "metadata": {},
   "source": [
    "첫 번째 예제에서는 제네레이터 식이 엄격하지 않다는 것을 알 수 있다. 지연 계산을 수행하며, 해당 제네레이터 함수를 소비하기 전까지는 적절한 값이 들어있지 않다. 이 자체는 한계가 아니다. 이는 제네레이터가 파이썬을 사용한 함수형 프로그래밍에 잘 들어맞는 이유라고 할 수 있다."
   ]
  },
  {
   "cell_type": "code",
   "execution_count": 16,
   "id": "73f98a2d",
   "metadata": {},
   "outputs": [
    {
     "data": {
      "text/plain": [
       "[2, 2, 2, 3, 5, 13]"
      ]
     },
     "execution_count": 16,
     "metadata": {},
     "output_type": "execute_result"
    }
   ],
   "source": [
    "list(pfactors1(1560))"
   ]
  },
  {
   "cell_type": "markdown",
   "id": "f0039663",
   "metadata": {},
   "source": [
    "두 번째 예에서는 제네레이터 식에서 리스트 객체를 구체화했다. 출력을 살피거나 단위 테스트 케이스를 작성하는 경우 이런 기능이 유용하다. 문제는 다음 케이스다."
   ]
  },
  {
   "cell_type": "code",
   "execution_count": 17,
   "id": "9a406265",
   "metadata": {},
   "outputs": [
    {
     "ename": "TypeError",
     "evalue": "object of type 'generator' has no len()",
     "output_type": "error",
     "traceback": [
      "\u001b[0;31m---------------------------------------------------------------------------\u001b[0m",
      "\u001b[0;31mTypeError\u001b[0m                                 Traceback (most recent call last)",
      "Input \u001b[0;32mIn [17]\u001b[0m, in \u001b[0;36m<cell line: 1>\u001b[0;34m()\u001b[0m\n\u001b[0;32m----> 1\u001b[0m \u001b[38;5;28;43mlen\u001b[39;49m\u001b[43m(\u001b[49m\u001b[43mpfactors1\u001b[49m\u001b[43m(\u001b[49m\u001b[38;5;241;43m1560\u001b[39;49m\u001b[43m)\u001b[49m\u001b[43m)\u001b[49m\n",
      "\u001b[0;31mTypeError\u001b[0m: object of type 'generator' has no len()"
     ]
    }
   ],
   "source": [
    "len(pfactors1(1560))"
   ]
  },
  {
   "cell_type": "markdown",
   "id": "cba16a44",
   "metadata": {},
   "source": [
    "세 번째 예제에서는 제네레이터 함수의 한 가지 한계인 len()이 없다는 것을 알 수 있다.\n",
    "\n",
    "제네레이터 함수의 다른 한계점으로는 오직 한 번밖에 쓸 수 없다는 점을 들 수 있다. 아래 예제를 보자"
   ]
  },
  {
   "cell_type": "code",
   "execution_count": 18,
   "id": "5dadc4fb",
   "metadata": {},
   "outputs": [
    {
     "data": {
      "text/plain": [
       "27"
      ]
     },
     "execution_count": 18,
     "metadata": {},
     "output_type": "execute_result"
    }
   ],
   "source": [
    "result= pfactors1(1560)\n",
    "\n",
    "sum(result)"
   ]
  },
  {
   "cell_type": "code",
   "execution_count": 19,
   "id": "f834599d",
   "metadata": {},
   "outputs": [
    {
     "data": {
      "text/plain": [
       "0"
      ]
     },
     "execution_count": 19,
     "metadata": {},
     "output_type": "execute_result"
    }
   ],
   "source": [
    "sum(result)"
   ]
  },
  {
   "cell_type": "markdown",
   "id": "ea512fc8",
   "metadata": {},
   "source": [
    "첫 sum() 메서드 평가는 제네레이터를 모두 평가했다. 하지만 다시 sum()을 평가하면 제네레이터가 비어있음을 알 수 있다. 제네레이터가 만드는 값은 오직 한 번만 소비할 수 있다.\n",
    "\n",
    "파이썬의 제네레이터는 상태가 있다. 일부 함수형 프로그래밍에 있어서 제네레이터는 유용하지만, 그렇게 완전하지는 않다.\n",
    "\n",
    "itertools.tee() 메서드를 이용하면 이 한계를 극복할 수 있다.(이는 8장에서 살핀다.) 여기서는 간단히 사용 예제만 살펴보자."
   ]
  },
  {
   "cell_type": "code",
   "execution_count": null,
   "id": "6668d028",
   "metadata": {},
   "outputs": [],
   "source": [
    "import itertools\n",
    "\n",
    "def limits(iterable):\n",
    "    \n",
    "    max_tee, min_tee = itertools.tee(iterable, 2)\n",
    "    \n",
    "    return max(max_tee), min(min_tee)"
   ]
  },
  {
   "cell_type": "markdown",
   "id": "0cf2de15",
   "metadata": {},
   "source": [
    "매개변수로 받은 제네레이터 식을 복사하여 max_tee()와 min_tee()를 만들었다. 이렇게 하면 원래의 반복자는 그대로 남는다. 이 두 객체를 사용하면 해당 반복 가능 객체를 가지고 최댓값과 최솟값을 얻을 수 있다.\n",
    "\n",
    "\n",
    "---"
   ]
  },
  {
   "cell_type": "markdown",
   "id": "a7a0b6db",
   "metadata": {},
   "source": [
    "## 제네레이터 식 조합하기\n",
    "함수형 프로그래밍의 핵심은 좀 더 복잡한 복합 처리를 구성하기 위해 제네레이터 식이나 제네레이터 함수를 쉽게 결합할 수 있다는 점에 있다. 제네레이터 식을 활용하는 경우에는 이들을 여러 가지 방식으로 결합할 수 있다.\n",
    "\n",
    "제네레이터 함수를 결합하는 일반적인 방법은 합성 함수(composite function)를 만드는 경우다. (f(x) for x in range())를 계산하는 제네레이터가 있다고 가정해보자. 이때 g(f(x))를 계산하고 싶다면, 두 제네레이터를 결합하는 데는 여러 방법이 있다.\n",
    "\n",
    "```\n",
    "g_f_x = (g(f(x)) for x in range()) \n",
    "```\n",
    "\n",
    "기술적으로 문제는 없으나 이는 재사용을 막는다. 식을 재사용하기보다는 코드를 재작성하기 때문이다.\n",
    "\n",
    "다음과 같이 한 가지 식을 다른 식 안에서 바꿀 수도 있다.\n",
    "\n",
    "```\n",
    "g_f_x = (g(y) for y in (f(x) for x in range())) \n",
    "```\n",
    "\n",
    "이러한 방식을 사용하면 단순한 치환으로 조합이 가능하다는 장점이 있다. 이를 재사용을 강조하는 방식으로 작성하는 방법은 다음과 같다.\n",
    "\n",
    "```\n",
    "f_x = (f(x) for x in range())\n",
    "g_f_x = (g(y) for y in f_x)\n",
    "```\n",
    "\n",
    "이 방법은 최초의 식인 (f(x) for x in range())에 손을 대지 않는다는 장점이 있다. 그냥 해당 식을 변수에 대입했을 뿐이다.\n",
    "\n",
    "그 결과로 얻은 합성 함수도 제네레이터 식이다. 따라서 이 또한 지연 계산을 수행한다. g_f_x에서 다음 값을 가져오면 f_x에서도 값을 하나 가져오고, 다시 원래의 range() 함수에서도 값을 하나 추출하게 된다는 의미다.\n",
    "\n",
    "\n",
    "---"
   ]
  }
 ],
 "metadata": {
  "kernelspec": {
   "display_name": "Python 3 (ipykernel)",
   "language": "python",
   "name": "python3"
  },
  "language_info": {
   "codemirror_mode": {
    "name": "ipython",
    "version": 3
   },
   "file_extension": ".py",
   "mimetype": "text/x-python",
   "name": "python",
   "nbconvert_exporter": "python",
   "pygments_lexer": "ipython3",
   "version": "3.9.12"
  }
 },
 "nbformat": 4,
 "nbformat_minor": 5
}
