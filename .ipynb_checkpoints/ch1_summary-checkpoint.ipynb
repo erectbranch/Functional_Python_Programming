{
 "cells": [
  {
   "cell_type": "markdown",
   "id": "6b742552",
   "metadata": {},
   "source": [
    "# 1 함수형 프로그래밍 소개\n",
    "함수형 프로그래밍(functional programming은 식(expression)과 평가(evalution)를 사용하고, 주로 이들을 함수에 캡슐화하여 계산을 정의하는 것이다. 이는 변경 가능한(mutable) 객체나 상태 변경의 복잡함을 감소시키는데 유용하다.(더욱 간결하게 이해하기 쉽다) \n",
    "\n",
    "책에서는 여러 프로그래밍 패러다임 중 단 두 가지만을 구분할 것이다. 바로 **함수형 프로그래밍**과 **명령 중심 프로그래밍**이다.\n",
    "\n",
    "파이썬과 같은 명령 중심 언어에서 계산은 여러 이름 공간에 있는 변수의 값에 반영된다. 여러 '명령'문은 변수를 추가하거나 대체(심지어는 제거)하는 것으로 변경하기도 한다. 파이썬은 특정 이름 공간에 있는 변수 규칙을 바꿔주는 global이나 nonlocal과 같은 문장도 가진다. def, class, import는 처리 문맥을 변경한다. except, if, elif, else와 같은 문장, for나 while 같은 문장 모두 변수 상태를 바꾼다. \n",
    "\n",
    "\n",
    "---\n",
    "\n",
    "## 명령형 패러다임 구분하기\n",
    "\n",
    "아래는 파이썬의 객체지향적 특성을 무시하고 만든 간단한 절자형 알고리즘이다.\n"
   ]
  },
  {
   "cell_type": "code",
   "execution_count": 1,
   "id": "895c0170",
   "metadata": {},
   "outputs": [
    {
     "name": "stdout",
     "output_type": "stream",
     "text": [
      "23\n"
     ]
    }
   ],
   "source": [
    "s = 0\n",
    "\n",
    "# n에 1에서 9까지 할당\n",
    "for n in range(1, 10): \n",
    "    \n",
    "    # n이 3으로 나누어지거나 5로 나누어진다면\n",
    "    if n % 3 == 0 or n % 5 == 0: \n",
    "        \n",
    "        # s에 n의 값을 더한다.\n",
    "        s+=n\n",
    "        \n",
    "# 3 + 5 + 6 + 9 = 23        \n",
    "print(s)"
   ]
  },
  {
   "cell_type": "markdown",
   "id": "52af8160",
   "metadata": {},
   "source": [
    "**파이썬의 객체지향 프로그래밍(OOP)** 기능을 이용하여 코드를 구성하면 아래와 같다."
   ]
  },
  {
   "cell_type": "code",
   "execution_count": 2,
   "id": "ebaef085",
   "metadata": {},
   "outputs": [
    {
     "name": "stdout",
     "output_type": "stream",
     "text": [
      "23\n"
     ]
    }
   ],
   "source": [
    "# 조건에 일치하는 값이 들어갈 리스트\n",
    "m = list()\n",
    "\n",
    "# n에 1에서 9까지 할당\n",
    "for n in range(1, 10):\n",
    "    \n",
    "    # n이 3으로 나누어지거나 5로 나누어진다면\n",
    "    if n % 3 == 0 or n % 5 == 0: \n",
    "        \n",
    "        # 리스트 m에 n을 추가한다.\n",
    "        m.append(n)\n",
    "        \n",
    "print(sum(m))"
   ]
  },
  {
   "cell_type": "markdown",
   "id": "24574eeb",
   "metadata": {},
   "source": [
    "두 번째 예제는 첫 번째 예제와 결과는 같지만, 진행하면서 컬렉션 **객체**인 m에 중간 값을 누적한다. 계산은 m과 n이라는 변수에 든 값에 의해 결정된다.\n",
    "\n",
    "\n",
    "하지만 함수()나 객체, 메서드()와 같은 구문(m.append(n), sum(m))을 사용했기 때문에 순수한 객체지향 프로그래밍이 아니라고 (잘못) 주장할 수 있다. 그렇다면 좀 더 객체 모델을 극단적으로 적용하여 list의 하위 클래스를 만들어 sum을 추가할 수도 있다."
   ]
  },
  {
   "cell_type": "code",
   "execution_count": 3,
   "id": "fd4faa88",
   "metadata": {},
   "outputs": [],
   "source": [
    "class SummableList(list):\n",
    "    \n",
    "    # list에 하위 클래스를 만들어 sum을 추가한다.\n",
    "    def sum(self):\n",
    "        \n",
    "        s = 0\n",
    "        \n",
    "        # 이터레이터(iterator): 반복자. 값을 차례로 꺼낼 수 있는 객체\n",
    "        # 반복자는 for i in range(100)이라는 구문이 있으면\n",
    "        # 1~99까지 모든 값을 만들어 두지 않고 필요한 값만 제때 만드는데, 이것을 하는 것이 이터레이터다.\n",
    "        # 데이터 생성을 뒤로 미루므로 이런 방식을 지연 평가(lazy evaluation)라고 한다.\n",
    "        \n",
    "        # __iter__ 메서드는 요소를 차례로 꺼내준다.\n",
    "        for v in self.__iter__():\n",
    "            s += v\n",
    "            \n",
    "        return s"
   ]
  },
  {
   "cell_type": "markdown",
   "id": "e419542d",
   "metadata": {},
   "source": [
    "변수 m을 list() 메서드가 아니라 SummableList 클래스로 초기화한다면, sum(m) 메서드 대신 m.sum()을 사용할 수 있을 것이다. 이러한 점이 **파이썬이 객체지향 언어라는 사실**을 명확히 보여준다. <U>전위 표기법은 단지 구문상 편의를 제공할 뿐이다.</U>\n",
    "\n",
    "위에서 이야기하고자 한 내용이 명령형 프로그래밍 방식이 잘못됐다는 말이 아니다. 중요한 것은 다양한 관점의 전환이다. 이제 함수형 프로그래밍을 살펴볼 것이나 이 예제를 극적으로 더 짧게 만들어주거나 더 빠르게 만들어주지는 못한다.\n",
    "\n",
    "\n",
    "---"
   ]
  },
  {
   "cell_type": "markdown",
   "id": "4bfca7d1",
   "metadata": {},
   "source": [
    "## 함수형 패러다임 사용하기\n",
    "위 예제(3과 5의 배수의 합)를 함수 관점으로 보면, 두 가지 부분으로 나눌 수 있다.\n",
    "\n",
    "* 리스트 **합을 계산**\n",
    "* 예를 들어 3이나 5의 배수와 같은 간단한 검사 조건을 통과한 값의 리스트\n",
    "\n",
    "1. 리스트 합은 간단한 재귀적 정의로 만들 수 있다."
   ]
  },
  {
   "cell_type": "code",
   "execution_count": 4,
   "id": "31231a2a",
   "metadata": {},
   "outputs": [],
   "source": [
    "# 리스트 합(재귀)\n",
    "def sum_seq(list):\n",
    "    \n",
    "    # 기저 조건, list의 길이가 0이면 전체 합은 0을 반환한다.\n",
    "    if len(list) == 0: \n",
    "        return 0\n",
    "    \n",
    "    # 시퀀스의 합은 첫 번째 원소와 나머지 시퀀스의 합계를 더한 값이다.\n",
    "    return list[0] + sum(list[1:])"
   ]
  },
  {
   "cell_type": "markdown",
   "id": "4e7fd6ac",
   "metadata": {},
   "source": [
    "초깃값을 분리하고 나머지 리스트 합계를 더한 형태로 만든 이유는 추후 설명할 것이다.\n",
    "\n",
    "2. 검사 조건을 통과한 값의 리스트다."
   ]
  },
  {
   "cell_type": "code",
   "execution_count": 5,
   "id": "45173596",
   "metadata": {},
   "outputs": [],
   "source": [
    "# 최댓값 n, 주어진 filter_func() 함수, 주어진 값 v\n",
    "def until(n, filter_func, v):\n",
    "    \n",
    "    # 기저 조건\n",
    "    # 주어진 값 v가 최댓값 n과 같은 경우 빈 리스트를 반환한다.(리스트는 아래서 계속 붙이는 중)\n",
    "    if v == n: \n",
    "        return []\n",
    "    \n",
    "    \n",
    "    # filter_func() 함수가 전달 받은 v를 통과(True)시키면\n",
    "    if filter_func(v):\n",
    "        \n",
    "        # 원소가 하나만 들어가는 매우 작은 리스트 + 재귀를 통해 v+1의 결과를 계속해서 붙여준다.\n",
    "        return [v] + until(n, filter_func, v+1)\n",
    "    \n",
    "    \n",
    "    # 만약 v값을 filter_func가 거부(False)한다면, 다음 v+1 값을 넣은 filter_func()를 호출한다.\n",
    "    else:\n",
    "        return until(n, filter_func, v+1)"
   ]
  },
  {
   "cell_type": "markdown",
   "id": "c8742e0e",
   "metadata": {},
   "source": [
    "위에서 만든 until()를 이용해 3이나 5의 배수를 만들 것이다. 먼저, 값을 걸러내기 위한 filter_func() 함수 역할을 할 간단한 lambda 객체를 만들 것이다."
   ]
  },
  {
   "cell_type": "code",
   "execution_count": 6,
   "id": "d9838a5f",
   "metadata": {},
   "outputs": [],
   "source": [
    "# def로도 정의할 수 있지만, 간결하게 lambda 객체로 만들었다.\n",
    "# 3이나 5로 나누어지면 True, 나누어지지 않으면 False를 반환한다.\n",
    "mult_3_5 = lambda x: x%3 == 0 or x%5 == 0"
   ]
  },
  {
   "cell_type": "code",
   "execution_count": 7,
   "id": "c0ef4ea6",
   "metadata": {},
   "outputs": [
    {
     "data": {
      "text/plain": [
       "True"
      ]
     },
     "execution_count": 7,
     "metadata": {},
     "output_type": "execute_result"
    }
   ],
   "source": [
    "mult_3_5(3)"
   ]
  },
  {
   "cell_type": "code",
   "execution_count": 8,
   "id": "58299bbf",
   "metadata": {},
   "outputs": [
    {
     "data": {
      "text/plain": [
       "False"
      ]
     },
     "execution_count": 8,
     "metadata": {},
     "output_type": "execute_result"
    }
   ],
   "source": [
    "mult_3_5(4)"
   ]
  },
  {
   "cell_type": "code",
   "execution_count": 9,
   "id": "e71c6cb5",
   "metadata": {},
   "outputs": [
    {
     "data": {
      "text/plain": [
       "True"
      ]
     },
     "execution_count": 9,
     "metadata": {},
     "output_type": "execute_result"
    }
   ],
   "source": [
    "mult_3_5(5)"
   ]
  },
  {
   "cell_type": "markdown",
   "id": "7587bf52",
   "metadata": {},
   "source": [
    "이제 최댓값을 10으로 해서 0부터 3이나 5의 배수를 반환하는 until() 함수를 사용해 보자."
   ]
  },
  {
   "cell_type": "code",
   "execution_count": 10,
   "id": "7829a6b7",
   "metadata": {},
   "outputs": [
    {
     "data": {
      "text/plain": [
       "[0, 3, 5, 6, 9]"
      ]
     },
     "execution_count": 10,
     "metadata": {},
     "output_type": "execute_result"
    }
   ],
   "source": [
    "until(10, lambda x: x%3 ==0 or x%5 ==0, 0)"
   ]
  },
  {
   "cell_type": "markdown",
   "id": "a4f7d91b",
   "metadata": {},
   "source": [
    "---"
   ]
  },
  {
   "cell_type": "markdown",
   "id": "08936c3f",
   "metadata": {},
   "source": [
    "## 함수형 혼합체(hybrid) 사용하기\n",
    "위 예제(3 혹은 5의 배수의 합계)를 혼합체(hybrid) 버전으로 구현하면 다음과 같다."
   ]
  },
  {
   "cell_type": "code",
   "execution_count": 11,
   "id": "041f8492",
   "metadata": {},
   "outputs": [
    {
     "name": "stdout",
     "output_type": "stream",
     "text": [
      "23\n"
     ]
    }
   ],
   "source": [
    "print ( sum(n for n in range(1, 10) if n%3 ==0 or n%5 ==0) )"
   ]
  },
  {
   "cell_type": "markdown",
   "id": "00c9f24b",
   "metadata": {},
   "source": [
    "range() 함수가 돌려주는 값 n을 주목해라. range(1, 10)은 iterable 객체다. 따라서 제네레이터 식의 일종이다. \n",
    "\n",
    "이 식은 \"{n|1≤=n<10}\"인 값 리스트를 만든다. 계산의 상태를 나타낸다기 보다는 집합의 내용을 표현하는 방식이라고 할 수 있다. sum은 이 리스트를 받아 최종 값 23을 반환한다.\n",
    "\n",
    "\n",
    "---"
   ]
  },
  {
   "cell_type": "markdown",
   "id": "8e0e9795",
   "metadata": {},
   "source": [
    "## 객체 생성 살펴보기\n",
    "계산 과정은 고정적이지 않다. 함수의 교환 법칙이나 결합 법칙이 성립하는 경우, 순서에 따라 만들어지는 객체도 달라진다. \n",
    "\n",
    "다음 식을 살펴보자\n",
    "\n",
    "1+2+3+4\n",
    "\n",
    "\\>> 10\n",
    "\n",
    "이제 같은 결과를 내는 다양한 계산 과정을 살펴볼 것이다. + 연산자는 결합 법칙과 교환 법칙이 성립하기 때문에 다양한 계산 과정을 만들 수 있다.\n",
    "\n",
    "1. ((1+2)+3)+4\n",
    "\n",
    "    \\>> 10\n",
    "\n",
    "\n",
    "2. 1+(2+(3+4))\n",
    "\n",
    "    \\>> 10\n",
    "\n",
    "\n",
    "1번의 경우 왼쪽에서 오른쪽 순서로 포갰다. 이것이 파이썬이 일반적으로 취하는 순서이다. 계산 중간에 3, 6이라는 객체가 만들어진다.\n",
    "\n",
    "2번의 경우 오른쪽에서 왼쪽 순서로 포갰다. 이 경우 중간 객체에서 7과 9라는 객체가 만들어 진다. 단순한 정수 연산이므로 이 두 방식은 같은 성능을 보인다. 따라서 최적화에 따른 이점이 존재하지 않는다.\n",
    "\n",
    "\n",
    "\n",
    "하지만 list에서 append하는 작업을 수행하고 있다면, 결합 법칙을 조정하는 것만으로 성능 향상을 얻을 수 있다."
   ]
  },
  {
   "cell_type": "code",
   "execution_count": 12,
   "id": "0a93190c",
   "metadata": {},
   "outputs": [
    {
     "data": {
      "text/plain": [
       "0.12038720800000002"
      ]
     },
     "execution_count": 12,
     "metadata": {},
     "output_type": "execute_result"
    }
   ],
   "source": [
    "import timeit\n",
    "\n",
    "# 1번과 비슷한 방식의 리스트 결합\n",
    "timeit.timeit(\"((([]+[1])+[2])+[3])+[4]\")"
   ]
  },
  {
   "cell_type": "code",
   "execution_count": 13,
   "id": "33a7c315",
   "metadata": {},
   "outputs": [
    {
     "data": {
      "text/plain": [
       "0.12058716700000005"
      ]
     },
     "execution_count": 13,
     "metadata": {},
     "output_type": "execute_result"
    }
   ],
   "source": [
    "timeit.timeit(\"[]+([1]+([2]+([3]+[4])))\")"
   ]
  },
  {
   "cell_type": "markdown",
   "id": "3bffc662",
   "metadata": {},
   "source": [
    "위의 경우 왼쪽에서 오른쪽으로 포개는 1번 방식이 더 성능의 이점을 가진다.\n",
    "\n",
    "\n",
    "---"
   ]
  },
  {
   "cell_type": "markdown",
   "id": "ceaa42ed",
   "metadata": {},
   "source": [
    "## 함수형 프로그래밍의 고전적인 예제\n",
    "$a_{i+1} = (a_{i}+n/a_{i})/2$ 수열을 계산하는 아래 예제를 살펴보자"
   ]
  },
  {
   "cell_type": "code",
   "execution_count": 14,
   "id": "0f70616c",
   "metadata": {},
   "outputs": [],
   "source": [
    "# 내장 함수 next와 겹치기 때문에 next_ 함수로 표기\n",
    "def next_(n, x):\n",
    "    \n",
    "    return (x+n/x) / 2"
   ]
  },
  {
   "cell_type": "markdown",
   "id": "40c55618",
   "metadata": {},
   "source": [
    "매 단계 반복할수록 값 사이의 거리는 줄어들며, 이 수열은 빠르게 a = n/a인 값으로 수렴한다. 즉 $a = \\sqrt{n}$이란 의미다.\n",
    "\n",
    "다음은 명령행 프롬프트에서 이 함수를 사용한 결과다."
   ]
  },
  {
   "cell_type": "code",
   "execution_count": 15,
   "id": "79eafed5",
   "metadata": {},
   "outputs": [
    {
     "data": {
      "text/plain": [
       "[1.0, 1.5, 1.4167, 1.4142]"
      ]
     },
     "execution_count": 15,
     "metadata": {},
     "output_type": "execute_result"
    }
   ],
   "source": [
    "# n = 2로 수열은 root 2에 수렴할 것이다.\n",
    "n = 2\n",
    "\n",
    "f = lambda x: next_(n, x)\n",
    "\n",
    "a0 = 1.0\n",
    "\n",
    "[round(x, 4) for x in (a0, f(a0), f(f(a0)), f(f(f(a0))))] # 뒤는 재귀적인 시퀀스로 계산한다."
   ]
  },
  {
   "cell_type": "markdown",
   "id": "926d7bcc",
   "metadata": {},
   "source": [
    "n = 2 이므로 f() 메서드는 $\\sqrt2$로 수렴하는 lambda로 정의되었다. a0 초깃값은 1.0으로 설정해 시작하였으며 재귀적인 평가를 통해 계산했다.\n",
    "\n",
    "아래는 무한 수열을 생성하는 함수다."
   ]
  },
  {
   "cell_type": "code",
   "execution_count": 16,
   "id": "a42f55e9",
   "metadata": {},
   "outputs": [],
   "source": [
    "# next_() 함수(수열의 계산), a0(초깃값)을 인자로 받을 것이다.\n",
    "def repeat_(f, a):\n",
    "    \n",
    "    # 초깃값을 반환\n",
    "    yield a\n",
    "    \n",
    "    # 수열의 다음 값을 계산해서 반환한다.(재귀)\n",
    "    for v in repeat_(f, f(a)):\n",
    "        \n",
    "        yield v "
   ]
  },
  {
   "cell_type": "markdown",
   "id": "b26fce7c",
   "metadata": {},
   "source": [
    "단순히 return repeat(f, f(a))를 사용하면 반복을 끝내면서 값들을 반환하는 것이 아니라 제너레이터 식을 반환하게 된다. 파이썬의 제네레이터 함수는 단순한 재귀를 사용할 수 없기 때문이다. 각 재귀 결과값을 개별적으로 yield로 반환해야 한다.\n",
    "\n",
    "다만 우리는 무한 수열이 필요하지 않다. 수열에서 값이 목표로 하는 특정 값에 가까워지는 경우를 조건으로 수의 생성을 중단할 수 있다. 이때 얼마나 가까운지의 정도를 나타내는 데 사용하는 기호는 입실론(Epsilon,$\\epsilon$)이다. 입실론을 우리가 감내할 수 있는 가장 큰 오차 범위라고 생각할 수 있다.\n",
    "\n",
    "아래는 입실론을 도입한 알고리즘이다."
   ]
  },
  {
   "cell_type": "code",
   "execution_count": 17,
   "id": "7ce3933f",
   "metadata": {},
   "outputs": [],
   "source": [
    "def within(𝜖, iterable):\n",
    "    \n",
    "    # 내부 함수 정의\n",
    "    def head_tail(𝜖, a, iterable):\n",
    "        \n",
    "        # 내장 함수 next는 iterator에서 다음 값을 꺼내준다.\n",
    "        # 수열에서 a의 다음 값으로 b를 생성한다.\n",
    "        b = next(iterable)\n",
    "        \n",
    "        # 기저 조건\n",
    "        # a-b의 절댓값이 𝜖(감내할 수 있는 오차 범위)보다 작다면 수열을 중단하고 b를 반환한다.\n",
    "        if abs(a-b) <= 𝜖:\n",
    "            \n",
    "            return b\n",
    "        \n",
    "        # 기저 조건에 해당하지 않을 때까지 재귀\n",
    "        # a의 다음 값이었던 b로 함수를 다시 진행한다.\n",
    "        return head_tail(𝜖, b, iterable)\n",
    "    \n",
    "    \n",
    "    # 위에서 정의한 head_tail 함수를 시행한다.\n",
    "    return head_tail(𝜖, next(iterable), iterable)"
   ]
  },
  {
   "cell_type": "markdown",
   "id": "d4f17d7c",
   "metadata": {},
   "source": [
    "내부 함수로 head_tail 함수를 정의한다. 이 함수는 오차 한계 𝜖과 iterable의 원소 a, 그리고 iterable을 인자로 받는다.\n",
    "\n",
    "다음은 next_(), repeat(), within()을 결합하여 제곱근 함수를 만든 것이다."
   ]
  },
  {
   "cell_type": "code",
   "execution_count": 18,
   "id": "fb181d67",
   "metadata": {},
   "outputs": [],
   "source": [
    "def sqrt_(a0, 𝜖, n):\n",
    "    \n",
    "    return within(𝜖, repeat_(lambda x: next_(n, x), a0))"
   ]
  },
  {
   "cell_type": "markdown",
   "id": "3aa79e74",
   "metadata": {},
   "source": [
    "과정은 다음과 같다.\n",
    "\n",
    "1. next_() 함수는 수열 계산식이 담긴 함수.\n",
    "2. repeat_() 함수는 (함수, 초깃값) 인자를 받아 재귀로 수열의 다음 값을 계속해서 반환한다.**(iterable)**\n",
    "3. within() 함수는 (오차 한계, iterable)을 인자로 받아 iterable의 다음 값과 현재 값의 차이가 오차 한계보다 작거나 같다면 다음 값을 반환한다. 작지 않을 경우 계속해서 검증 과정을 반복한다.\n",
    "\n",
    "\n",
    "---"
   ]
  }
 ],
 "metadata": {
  "kernelspec": {
   "display_name": "Python 3 (ipykernel)",
   "language": "python",
   "name": "python3"
  },
  "language_info": {
   "codemirror_mode": {
    "name": "ipython",
    "version": 3
   },
   "file_extension": ".py",
   "mimetype": "text/x-python",
   "name": "python",
   "nbconvert_exporter": "python",
   "pygments_lexer": "ipython3",
   "version": "3.9.12"
  }
 },
 "nbformat": 4,
 "nbformat_minor": 5
}
